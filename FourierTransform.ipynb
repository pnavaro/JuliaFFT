{
 "cells": [
  {
   "cell_type": "markdown",
   "metadata": {
    "slideshow": {
     "slide_type": "slide"
    }
   },
   "source": [
    "# Fourier Transform for Polynomial product"
   ]
  },
  {
   "cell_type": "markdown",
   "metadata": {
    "slideshow": {
     "slide_type": "slide"
    }
   },
   "source": [
    "## Polynomials\n",
    "- How to multiply two polynomials\n",
    "- Brute force algorithm (multiplying all terms together): O(n * m) for polynomials with degrees n-1 and m-1"
   ]
  },
  {
   "cell_type": "code",
   "execution_count": 14,
   "metadata": {},
   "outputs": [
    {
     "data": {
      "text/html": [
       "1 &#43; 2&#8729;x &#43; 6&#8729;x<sup>2</sup> &#43; 10&#8729;x<sup>3</sup> &#43; 17&#8729;x<sup>4</sup> &#43; 12&#8729;x<sup>5</sup>"
      ],
      "text/latex": [
       "$1 + 2\\cdot x + 6\\cdot x^{2} + 10\\cdot x^{3} + 17\\cdot x^{4} + 12\\cdot x^{5}$"
      ],
      "text/plain": [
       "Polynomial(1 + 2*x + 6*x^2 + 10*x^3 + 17*x^4 + 12*x^5)"
      ]
     },
     "execution_count": 14,
     "metadata": {},
     "output_type": "execute_result"
    }
   ],
   "source": [
    "using Polynomials\n",
    "\n",
    "p = Polynomial([1,0,3,4])\n",
    "q = Polynomial([1, 2, 3])\n",
    "\n",
    "p * q"
   ]
  },
  {
   "cell_type": "markdown",
   "metadata": {
    "slideshow": {
     "slide_type": "fragment"
    }
   },
   "source": [
    "## Representation\n",
    "- Coefficient representation vs. point-value representation\n",
    "- Multiplying polynomials in point-value representation is much easier:\n",
    "  - (fg)(x) = f(x)g(x)"
   ]
  },
  {
   "cell_type": "markdown",
   "metadata": {
    "slideshow": {
     "slide_type": "slide"
    }
   },
   "source": [
    "# Discrete Fourier Transform\n",
    "Convert from coefficient representation to point-value representation\n",
    "- $\\mathcal{O}(n \\lg n)$ runtime\n",
    "- Evaluate a polynomial of degree n - 1 at n points to find its point-value representation\n",
    "- Choose these points carefully"
   ]
  },
  {
   "cell_type": "markdown",
   "metadata": {
    "slideshow": {
     "slide_type": "slide"
    }
   },
   "source": [
    "# Definitions\n",
    "Let $\\mathbf{a} = [a_0, a_1, ..., a_{n-1}]$ be the sequence of coefficients of a polynomial $P$ with degree $n-1$ and $\\mathbf{w} = [w_0, w_1, ..., w_{n-1}]$, $w_j \\in \\mathbb{C}$. Then the discrete Fourier transform of $P$ gives the set of point-values $[b_0, b_1, ..., b_{n-1}]$, where each $b_j$ is given by\n",
    "\\begin{align}\n",
    "b_j = P(w_j) = \\sum_{k=0}^{n-1} a_k w_j^k\n",
    "\\end{align}\n",
    "\n",
    "Written in matrix form, we have\n",
    "\\begin{align}\n",
    "\\begin{bmatrix}\n",
    "1 & w_0 & w_0^2 & ... & w_0^{n-1} \\\\\n",
    "1 & w_1 & w_1^2 & ... & w_1^{n-1} \\\\\n",
    "1 & w_2 & w_2^2 & ... & w_2^{n-1} \\\\\n",
    "\\vdots & \\vdots & \\vdots & \\ddots & \\vdots \\\\\n",
    "1 & w_{n-1} & w_{n-1}^2 & ... & w_{n-1}^{n-1} \\\\\n",
    "\\end{bmatrix}\n",
    "\\begin{bmatrix}\n",
    "a_0 \\\\\n",
    "a_1 \\\\\n",
    "a_2 \\\\\n",
    "\\vdots \\\\\n",
    "a_{n-1} \\\\\n",
    "\\end{bmatrix}\n",
    " = & \n",
    "\\begin{bmatrix}\n",
    "b_0 \\\\\n",
    "b_1 \\\\\n",
    "b_2 \\\\\n",
    "\\vdots \\\\\n",
    "b_{n-1} \\\\\n",
    "\\end{bmatrix}\n",
    "\\end{align}"
   ]
  },
  {
   "cell_type": "markdown",
   "metadata": {
    "slideshow": {
     "slide_type": "fragment"
    }
   },
   "source": [
    "The fast Fourier transform algorithm calculates each $b_j$. We will show that this algorithm runs in $\\mathcal{O} (n \\log{} n)$ when $n$ is a power of 2. To do so requires a selecting a special set of points $\\mathbf{w}$ called the $N^{th}$ roots of unity."
   ]
  },
  {
   "cell_type": "markdown",
   "metadata": {
    "slideshow": {
     "slide_type": "slide"
    }
   },
   "source": [
    "# $N^{th}$ Roots of Unity\n",
    "## Definition\n",
    "The $N^{th}$ roots of unity are the set of complex numbers \n",
    "\\begin{align}\n",
    "\\{ \\; e^{2\\pi i \\frac{j}{N}} \\; \\mid \\; j = 0, 1, \\dots, N-1 \\}\n",
    "\\end{align}\n",
    "For example, the $5^{th}$ roots of unity:\n",
    "![5th roots of unity](https://upload.wikimedia.org/wikipedia/commons/thumb/4/40/One5Root.svg/480px-One5Root.svg.png)"
   ]
  },
  {
   "cell_type": "markdown",
   "metadata": {
    "slideshow": {
     "slide_type": "subslide"
    }
   },
   "source": [
    "## Notation\n",
    "When $\\mathbf{w}$ is the $n^{th}$ roots of unity, we will refer to $\\mathbf{w}$ as $w_n$. The $j^{th}$ element (previously $w_j$) is indicated using the array index notation, $w_n[j]$.\n",
    "\n",
    "## Properties\n",
    "Let $w_n[j] = e^{2\\pi i j/n}$. Then $w_n[j]$ is said to be an $n^{th}$ root of unity and has the following properties:\n",
    "1. $w_n[j]^k = w_n[jk]$ \n",
    "2. $w_n[j] w_n[k] = w_n[j + k]$\n",
    "3. $w_n[j]^n = 1$\n",
    "4. If $n = 2^r$, then $w_n[2j] = w_{\\frac{n}{2}}[j]$"
   ]
  },
  {
   "cell_type": "markdown",
   "metadata": {
    "slideshow": {
     "slide_type": "notes"
    }
   },
   "source": [
    "*Proof of 4:*\n",
    "\n",
    "\\begin{align}\n",
    "w_n[2j] & = (e^{2 \\pi i (2j)/2^r}) \\\\\n",
    "& = e^{2 \\pi i j/2^{r-1}} \\\\\n",
    "& = w_{\\frac{n}{2}}[j] \\\\\n",
    "\\end{align}"
   ]
  },
  {
   "cell_type": "markdown",
   "metadata": {
    "slideshow": {
     "slide_type": "slide"
    }
   },
   "source": [
    "# Fast Fourier Transform\n",
    "We are now ready to derive a recursive algorithm for the DFT. \n",
    "\n",
    "\\begin{align}\n",
    "F(a, w_n[j]) = \\sum_{k=0}^{n-1} a[k] w_n[j]^k\n",
    "\\end{align}\n",
    "\n",
    "If we split the righthand side into two summations, one over even indices of $a$, the other over the odd, we get\n",
    "\n",
    "\\begin{align}\n",
    "\\sum_{k=0}^{n-1} a[k] w_n[j]^k & = \\sum_{m=0}^{\\frac{n}{2}-1} a[2m] w_n[j]^{2m} + \\sum_{m=0}^{\\frac{n}{2}-1} a[2m+1] w_n[j]^{2m+1}\n",
    "\\end{align}\n",
    "\n"
   ]
  },
  {
   "cell_type": "markdown",
   "metadata": {
    "slideshow": {
     "slide_type": "subslide"
    }
   },
   "source": [
    "From properties 1. and 4., we can clearly see that the lefthand summation is $F(a_{even}, w_{\\frac{n}{2}}[j])$. The righthand side requires a bit more manipulation:\n",
    "\n",
    "\\begin{align}\n",
    "\\sum_{m=0}^{\\frac{n}{2}-1} a[2m + 1] w_n[j]^{2m+1} & = \\sum_{m=0}^{\\frac{n}{2}-1} a[2m + 1] w_n[j(2m+1)]\\\\\n",
    "& = \\sum_{m=0}^{\\frac{n}{2}-1} a[2m + 1] w_n[j2m] w_n[j] \\\\\n",
    "& = w_n[j] \\biggl( \\sum_{m=0}^{\\frac{n}{2}-1} a[2m + 1] w_n[2j]^m \\biggr) \\\\\n",
    "& = w_n[j] \\cdot F(a_{odd}, w_{\\frac{n}{2}}[j]) \\\\\n",
    "\\end{align}\n"
   ]
  },
  {
   "cell_type": "markdown",
   "metadata": {
    "slideshow": {
     "slide_type": "subslide"
    }
   },
   "source": [
    "Therefore, our function $F$ can be written as\n",
    "\n",
    "\\begin{align}\n",
    "F(a, w_n[j]) & = F(a_{even}, w_{\\frac{n}{2}}[j]) + w_n[j] \\cdot F(a_{odd}, w_{\\frac{n}{2}}[j]) \\\\\n",
    "\\end{align}\n",
    "for $j = (0, 1, \\dots, n-1)$\n",
    "\n",
    "This recurrence returns a single value for a particular $j$, however we can modify it to instead return the Fourier transform for all values of $j$, giving us\n",
    "\n",
    "\\begin{align}\n",
    "F(a, w_n) & = F(a_{even}, w_{\\frac{n}{2}}) + w_n \\cdot F(a_{odd}, w_{\\frac{n}{2}}) \\\\\n",
    "\\end{align}\n",
    "\n",
    "Written in Julia, the algorithm is as follows:"
   ]
  },
  {
   "cell_type": "code",
   "execution_count": 35,
   "metadata": {},
   "outputs": [
    {
     "data": {
      "text/plain": [
       "4-element Vector{ComplexF64}:\n",
       "                4.0 + 0.0im\n",
       " 0.9999999999999997 - 1.0im\n",
       "               -2.0 + 3.6739403974420594e-16im\n",
       " 1.0000000000000004 + 1.0im"
      ]
     },
     "execution_count": 35,
     "metadata": {},
     "output_type": "execute_result"
    }
   ],
   "source": [
    "\"\"\"\n",
    "Calculate the fast Fourier transform of n numbers in x̄.\n",
    "(Note that n must be a power of 2 (n = 2ᵏ))\n",
    "Returns:\n",
    "ȳ - A complex array of size n \n",
    "\"\"\"\n",
    "function fft(n::Int, x̄)\n",
    "    \n",
    "    n == 1 && return [x̄[1]]\n",
    "\n",
    "    evens = [x̄[2i] for i = 1:n÷2]\n",
    "    odds = [x̄[2i-1] for i = 1:n÷2]\n",
    "    \n",
    "    ū = fft(n÷2, odds)\n",
    "    v̄ = fft(n÷2, evens)\n",
    "    ȳ = zeros(ComplexF64, n)\n",
    "    for j = 1:n\n",
    "        τ = exp(2π*im*(j-1)/n) \n",
    "        ȳ[j] = ū[(j-1) % (n÷2)+1] + τ * v̄[(j-1)% (n÷2)+1]\n",
    "    end\n",
    "    ȳ\n",
    "end\n",
    "\n",
    "n = 4\n",
    "x̄ = [1, 1, 0, 2]\n",
    "ȳ = fft(n, x̄)"
   ]
  },
  {
   "cell_type": "markdown",
   "metadata": {
    "slideshow": {
     "slide_type": "slide"
    }
   },
   "source": [
    "# Time Complexity\n",
    "Let $N = n$, and $T(N) = F(\\mathbf{a}, w_n[j])$,\n",
    "\\begin{align}\n",
    "T(N) = 2 \\cdot T(\\frac{N}{2}) + N,\n",
    "\\end{align}\n",
    "where the $+N$ comes from the loop after the recursive step.\n",
    "\n",
    "This algorithm runs in $\\mathcal{O}(N \\lg N)$ when $N$ is a power of 2."
   ]
  },
  {
   "cell_type": "markdown",
   "metadata": {
    "slideshow": {
     "slide_type": "subslide"
    }
   },
   "source": [
    "*Proof:*\n",
    "\\begin{align}\n",
    "T(N) & = 2 \\cdot T(\\frac{N}{2}) + N \\\\\n",
    "\\end{align}\n",
    "Let $N = 2^k$, and $t_k = T(2^k)$\n",
    "\\begin{align}\n",
    "t_k & = 2t_{k-1} + 2^k \\\\\n",
    "t_k - 2t_{k-1} & = 2^k \\\\\n",
    "\\end{align}"
   ]
  },
  {
   "cell_type": "markdown",
   "metadata": {
    "slideshow": {
     "slide_type": "subslide"
    }
   },
   "source": [
    "We can use the characteristic equation to solve this inhomogeneous system.\n",
    "\\begin{align}\n",
    "(x - 2)^2 & = 0 \\\\\n",
    "\\end{align}\n",
    "So we end up with\n",
    "\\begin{align}\n",
    "t_k & = c_1 2^k + c_2 k 2^k; k = \\lg N\\\\\n",
    "T(N) & = c_1 N + c_2 N \\lg N \\\\\n",
    "T(N) & = \\mathcal{O}(N \\lg N) \\\\\n",
    "\\end{align}"
   ]
  },
  {
   "cell_type": "markdown",
   "metadata": {
    "slideshow": {
     "slide_type": "slide"
    }
   },
   "source": [
    "# Example\n",
    "Say you want to perform the following multiplication:\n",
    "\\begin{align}\n",
    "(1 + x)(1 + x + x^2).\n",
    "\\end{align}\n",
    "We can use the FFT algorithm to find the point-value representation of each polynomial, then multiply those two together:"
   ]
  },
  {
   "cell_type": "markdown",
   "metadata": {
    "slideshow": {
     "slide_type": "fragment"
    }
   },
   "source": [
    "Calculating the FFT of each,\n",
    "\\begin{align}\n",
    "FFT(1 + x) & = [2, 1+i, 0, 1-i] \\\\\n",
    "FFT(1 + x + x^2) & = [3, i, 1, -i], \\\\\n",
    "\\end{align}\n",
    "which leads to the point-value representation of their product: $[6, -1 + i, 0, -1-i]$."
   ]
  },
  {
   "cell_type": "code",
   "execution_count": 36,
   "metadata": {
    "slideshow": {
     "slide_type": "subslide"
    }
   },
   "outputs": [
    {
     "data": {
      "text/plain": [
       "4-element Vector{ComplexF64}:\n",
       "                2.0 + 0.0im\n",
       "                1.0 + 1.0im\n",
       "                0.0 + 1.2246467991473532e-16im\n",
       " 0.9999999999999998 - 1.0im"
      ]
     },
     "execution_count": 36,
     "metadata": {},
     "output_type": "execute_result"
    }
   ],
   "source": [
    "n = 4\n",
    "x̄₁ = fft(4, [1,1,0,0])"
   ]
  },
  {
   "cell_type": "code",
   "execution_count": 37,
   "metadata": {
    "slideshow": {
     "slide_type": "subslide"
    }
   },
   "outputs": [
    {
     "data": {
      "text/plain": [
       "4-element Vector{Complex}:\n",
       "                     3.0 + 0.0im\n",
       "   6.123233995736766e-17 + 1.0000000000000002im\n",
       "                     1.0 + 1.2246467991473532e-16im\n",
       " -1.8369701987210297e-16 - 0.9999999999999999im"
      ]
     },
     "execution_count": 37,
     "metadata": {},
     "output_type": "execute_result"
    }
   ],
   "source": [
    "ȳ₁ = FFT(4, [1,1,1,0])"
   ]
  },
  {
   "cell_type": "code",
   "execution_count": 38,
   "metadata": {},
   "outputs": [
    {
     "data": {
      "text/plain": [
       "4-element Vector{ComplexF64}:\n",
       "                     6.0 + 0.0im\n",
       "     -1.0000000000000002 + 1.0000000000000002im\n",
       " -1.4997597826618576e-32 + 1.2246467991473532e-16im\n",
       "                    -1.0 - 0.9999999999999994im"
      ]
     },
     "execution_count": 38,
     "metadata": {},
     "output_type": "execute_result"
    }
   ],
   "source": [
    "x̄₁ .* ȳ₁"
   ]
  },
  {
   "cell_type": "code",
   "execution_count": 40,
   "metadata": {},
   "outputs": [
    {
     "data": {
      "text/plain": [
       "ifft (generic function with 2 methods)"
      ]
     },
     "execution_count": 40,
     "metadata": {},
     "output_type": "execute_result"
    }
   ],
   "source": [
    "function ifft(x, n::Int, y)\n",
    "    \n",
    "    n == 1 && return [y[1]]\n",
    "\n",
    "    evens = [y[2i] for i = 1:n÷2]\n",
    "    odds = [y[2i-1] for i = 1:n÷2]\n",
    "    \n",
    "    ū = fft(n÷2, odds)\n",
    "    v̄ = fft(n÷2, evens)\n",
    "    x = zeros(Complex, n)\n",
    "    for j = 1:n\n",
    "        τ = exp(2π * im * (j-1)/n) \n",
    "        x[j] = ū[(j-1) % (n÷2)+1] + v̄[(j-1)% (n÷2)+1] / τ\n",
    "    end\n",
    "    x ./ n\n",
    "end"
   ]
  },
  {
   "cell_type": "code",
   "execution_count": 43,
   "metadata": {},
   "outputs": [
    {
     "data": {
      "text/plain": [
       "4-element Vector{ComplexF64}:\n",
       " 1.0 + 0.0im\n",
       " 2.0 - 2.4894981252573997e-17im\n",
       " 2.0 + 6.123233995736766e-17im\n",
       " 1.0 - 3.633735870479366e-17im"
      ]
     },
     "execution_count": 43,
     "metadata": {},
     "output_type": "execute_result"
    }
   ],
   "source": [
    "v = ifft(4, [6,−1+1im,0,−1−1im])"
   ]
  },
  {
   "cell_type": "code",
   "execution_count": 44,
   "metadata": {},
   "outputs": [
    {
     "data": {
      "text/html": [
       "1 &#43; 2&#8729;x &#43; 2&#8729;x<sup>2</sup> &#43; x<sup>3</sup>"
      ],
      "text/latex": [
       "$1 + 2\\cdot x + 2\\cdot x^{2} + x^{3}$"
      ],
      "text/plain": [
       "Polynomial(1 + 2*x + 2*x^2 + x^3)"
      ]
     },
     "execution_count": 44,
     "metadata": {},
     "output_type": "execute_result"
    }
   ],
   "source": [
    "Polynomial([1,1,0,0]) * Polynomial([1,1,1,0])"
   ]
  },
  {
   "cell_type": "code",
   "execution_count": 46,
   "metadata": {},
   "outputs": [
    {
     "data": {
      "text/html": [
       "1.0 &#43; 2.0&#8729;x &#43; 2.0&#8729;x<sup>2</sup> &#43; 1.0&#8729;x<sup>3</sup>"
      ],
      "text/latex": [
       "$1.0 + 2.0\\cdot x + 2.0\\cdot x^{2} + 1.0\\cdot x^{3}$"
      ],
      "text/plain": [
       "Polynomial(1.0 + 2.0*x + 2.0*x^2 + 1.0*x^3)"
      ]
     },
     "execution_count": 46,
     "metadata": {},
     "output_type": "execute_result"
    }
   ],
   "source": [
    "Polynomial(round.(v))"
   ]
  },
  {
   "cell_type": "code",
   "execution_count": null,
   "metadata": {},
   "outputs": [],
   "source": []
  }
 ],
 "metadata": {
  "jupytext": {
   "formats": "ipynb,auto:light"
  },
  "kernelspec": {
   "display_name": "Julia 1.9.3",
   "language": "julia",
   "name": "julia-1.9"
  },
  "language_info": {
   "file_extension": ".jl",
   "mimetype": "application/julia",
   "name": "julia",
   "version": "1.9.3"
  }
 },
 "nbformat": 4,
 "nbformat_minor": 2
}
